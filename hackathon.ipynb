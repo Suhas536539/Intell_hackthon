from sklearn.feature_extraction.text import CountVectorizer
from sklearn.feature_extraction.text import TfidfTransformer
from sklearn.metrics.pairwise import cosine_similarity
import json
from getData import getData, Paper

def create_user_json(user_text, user_title, user_abstract, user_article_number):
    user_json_path = 'user_text.json'
    with open(user_json_path, 'w') as f:
        user_data = {
            "abstract": user_abstract,
            "articleNumber": user_article_number,
            "articleTitle": user_title,
            "authors": [],
            "doi": "",
            "publicationTitle": "IEEE Access",
            "publicationYear": "",
            "publicationVolume": None,
            "publicationIssue": None,
            "volume": "",
            "issue": None,
            "documentLink": "",
            "xml": user_text
        }
        json.dump(user_data, f)
    return user_json_path

def tfidf(data_set):
    count_vect = CountVectorizer()
    text_data = [data_set[i].text for i in range(len(data_set))]
    term_freq_matrix = count_vect.fit_transform(text_data)

    tfidf = TfidfTransformer()
    tf_idf_matrix = tfidf.fit_transform(term_freq_matrix)
    return tf_idf_matrix

def calculate_similarity(tf_idf_matrix, user_index, data_set):
    similarity_list = []

    for i in range(len(data_set) - 1):
        similarity = cosine_similarity(tf_idf_matrix[user_index], tf_idf_matrix[i])
        paper_number = data_set[i].json['articleNumber']
        similarity_list.append([similarity[0][0], paper_number])

    similarity_list.sort(reverse=True)
    return similarity_list

def print_top_similarities(similarity_list, top_n=5):
    print("\nTop Similarities:")
    for i in range(min(top_n, len(similarity_list))):
        print(f'The similarity between the user text and paper {similarity_list[i][1]} is: {similarity_list[i][0]*100:.2f}%')

def main():
    try:
        user_text = input("Enter the text content of the document to check for plagiarism: ")
        user_title = input("Enter the Title: ")
        user_abstract = input("Enter the abstract: ")
        user_article_number = input("Enter the articleNumber: ")

        user_json_path = create_user_json(user_text, user_title, user_abstract, user_article_number)

        data_set = getData('./data/')
        data_set.append(Paper(user_json_path))

        tf_idf_matrix = tfidf(data_set)
        user_index = len(data_set) - 1
        similarity_list = calculate_similarity(tf_idf_matrix, user_index, data_set)

        print_top_similarities(similarity_list)

    except Exception as e:
        print(f"An error occurred: {e}")

if _name_ == "_main_":
    main()
